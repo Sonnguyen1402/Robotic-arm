{
 "cells": [
  {
   "cell_type": "markdown",
   "metadata": {},
   "source": [
    "# Data\n",
    "\n",
    "Inspect, clean and balance synthetic grasp samples."
   ]
  },
  {
   "cell_type": "code",
   "execution_count": null,
   "metadata": {},
   "outputs": [],
   "source": [
    "import os\n",
    "os.chdir('..')"
   ]
  },
  {
   "cell_type": "code",
   "execution_count": null,
   "metadata": {},
   "outputs": [],
   "source": [
    "from pathlib import Path\n",
    "\n",
    "import matplotlib.pyplot as plt\n",
    "import numpy as np\n",
    "\n",
    "from vgn.io import *\n",
    "from vgn.perception import *\n",
    "from vgn.utils.transform import Rotation, Transform"
   ]
  },
  {
   "cell_type": "code",
   "execution_count": null,
   "metadata": {},
   "outputs": [],
   "source": [
    "import rospy\n",
    "from vgn import vis\n",
    "\n",
    "rospy.init_node(\"vgn_vis\", anonymous=True)"
   ]
  },
  {
   "cell_type": "markdown",
   "metadata": {},
   "source": [
    "Path to the data folder."
   ]
  },
  {
   "cell_type": "code",
   "execution_count": null,
   "metadata": {},
   "outputs": [],
   "source": [
    "root = Path(\"data/raw/foo\")"
   ]
  },
  {
   "cell_type": "markdown",
   "metadata": {},
   "source": [
    "## Inspection"
   ]
  },
  {
   "cell_type": "markdown",
   "metadata": {},
   "source": [
    "Compute the number of positive and negative samples in the dataset."
   ]
  },
  {
   "cell_type": "code",
   "execution_count": null,
   "metadata": {},
   "outputs": [],
   "source": [
    "df = read_df(root)"
   ]
  },
  {
   "cell_type": "code",
   "execution_count": null,
   "metadata": {},
   "outputs": [],
   "source": [
    "positives = df[df[\"label\"] == 1]\n",
    "negatives = df[df[\"label\"] == 0]\n",
    "\n",
    "print(\"Number of samples:\", len(df.index))\n",
    "print(\"Number of positives:\", len(positives.index))\n",
    "print(\"Number of negatives:\", len(negatives.index))"
   ]
  },
  {
   "cell_type": "markdown",
   "metadata": {},
   "source": [
    "Visualize a random sample. Make sure to have a ROS core running and open `config/sim.rviz` in RViz."
   ]
  },
  {
   "cell_type": "code",
   "execution_count": null,
   "metadata": {},
   "outputs": [],
   "source": [
    "size, intrinsic, _, finger_depth = read_setup(root)"
   ]
  },
  {
   "cell_type": "code",
   "execution_count": null,
   "metadata": {},
   "outputs": [],
   "source": [
    "i = np.random.randint(len(df.index))\n",
    "scene_id, grasp, label = read_grasp(df, i)\n",
    "depth_imgs, extrinsics = read_sensor_data(root, scene_id)\n",
    "\n",
    "tsdf = create_tsdf(size, 120, depth_imgs, intrinsic, extrinsics)\n",
    "tsdf_grid = tsdf.get_grid()\n",
    "cloud = tsdf.get_cloud()\n",
    "\n",
    "vis.clear()\n",
    "vis.draw_workspace(size)\n",
    "vis.draw_points(np.asarray(cloud.points))\n",
    "vis.draw_grasp(grasp, label, finger_depth)"
   ]
  },
  {
   "cell_type": "markdown",
   "metadata": {},
   "source": [
    "Plot the distribution of angles between the gravity vector and $Z$ axis of grasps."
   ]
  },
  {
   "cell_type": "code",
   "execution_count": null,
   "metadata": {},
   "outputs": [],
   "source": [
    "angles = np.empty(len(positives.index))\n",
    "for i, index in enumerate(positives.index):\n",
    "    approach = Rotation.from_quat(df.loc[index, \"qx\":\"qw\"].to_numpy()).as_matrix()[:,2]\n",
    "    angle = np.arccos(np.dot(approach, np.r_[0.0, 0.0, -1.0]))\n",
    "    angles[i] = np.rad2deg(angle)        "
   ]
  },
  {
   "cell_type": "code",
   "execution_count": null,
   "metadata": {},
   "outputs": [],
   "source": [
    "plt.hist(angles, bins=30)\n",
    "plt.xlabel(\"Angle [deg]\")\n",
    "plt.ylabel(\"Count\")\n",
    "plt.show()"
   ]
  },
  {
   "cell_type": "markdown",
   "metadata": {},
   "source": [
    "## Cleanup\n",
    "\n",
    "DANGER: the following lines will modify/delete data."
   ]
  },
  {
   "cell_type": "markdown",
   "metadata": {},
   "source": [
    "Remove grasp positions that lie outside the workspace."
   ]
  },
  {
   "cell_type": "code",
   "execution_count": null,
   "metadata": {},
   "outputs": [],
   "source": [
    "df = read_df(root)\n",
    "df.drop(df[df[\"x\"] < 0.02].index, inplace=True)\n",
    "df.drop(df[df[\"y\"] < 0.02].index, inplace=True)\n",
    "df.drop(df[df[\"z\"] < 0.02].index, inplace=True)\n",
    "df.drop(df[df[\"x\"] > 0.28].index, inplace=True)\n",
    "df.drop(df[df[\"y\"] > 0.28].index, inplace=True)\n",
    "df.drop(df[df[\"z\"] > 0.28].index, inplace=True)\n",
    "write_df(df, root)"
   ]
  },
  {
   "cell_type": "markdown",
   "metadata": {},
   "source": [
    "Remove unreferenced scenes."
   ]
  },
  {
   "cell_type": "code",
   "execution_count": null,
   "metadata": {},
   "outputs": [],
   "source": [
    "df = read_df(root)\n",
    "scenes = df[\"scene_id\"].values\n",
    "for f in (root / \"scenes\").iterdir():\n",
    "    if f.suffix == \".npz\" and f.stem not in scenes:\n",
    "        print(\"Removed\", f)\n",
    "        f.unlink()"
   ]
  },
  {
   "cell_type": "markdown",
   "metadata": {},
   "source": [
    "## Balance\n",
    "\n",
    "Discard a subset of negative samples to balance classes."
   ]
  },
  {
   "cell_type": "code",
   "execution_count": null,
   "metadata": {},
   "outputs": [],
   "source": [
    "df = read_df(root)"
   ]
  },
  {
   "cell_type": "code",
   "execution_count": null,
   "metadata": {},
   "outputs": [],
   "source": [
    "positives = df[df[\"label\"] == 1]\n",
    "negatives = df[df[\"label\"] == 0]\n",
    "i = np.random.choice(negatives.index, len(negatives.index) - len(positives.index), replace=False)\n",
    "df = df.drop(i)"
   ]
  },
  {
   "cell_type": "code",
   "execution_count": null,
   "metadata": {},
   "outputs": [],
   "source": [
    "write_df(df, root)"
   ]
  },
  {
   "cell_type": "code",
   "execution_count": null,
   "metadata": {},
   "outputs": [],
   "source": []
  }
 ],
 "metadata": {
  "kernelspec": {
   "display_name": "Python 3.8.5 64-bit ('.venv': venv)",
   "language": "python",
   "name": "python38564bitvenvvenv2d78cfb0a4ba445b83a6b28586011a65"
  },
  "language_info": {
   "codemirror_mode": {
    "name": "ipython",
    "version": 3
   },
   "file_extension": ".py",
   "mimetype": "text/x-python",
   "name": "python",
   "nbconvert_exporter": "python",
   "pygments_lexer": "ipython3",
   "version": "3.8.5"
  }
 },
 "nbformat": 4,
 "nbformat_minor": 4
}
