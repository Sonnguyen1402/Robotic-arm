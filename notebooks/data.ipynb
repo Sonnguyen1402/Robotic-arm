{
 "cells": [
  {
   "attachments": {},
   "cell_type": "markdown",
   "metadata": {},
   "source": [
    "# Data\n",
    "\n",
    "Inspect, clean and balance synthetic grasp samples."
   ]
  },
  {
   "cell_type": "code",
   "execution_count": 2,
   "metadata": {},
   "outputs": [],
   "source": [
    "import os\n",
    "os.chdir('..')"
   ]
  },
  {
   "cell_type": "code",
   "execution_count": 3,
   "metadata": {},
   "outputs": [
    {
     "name": "stdout",
     "output_type": "stream",
     "text": [
      "Jupyter environment detected. Enabling Open3D WebVisualizer.\n",
      "[Open3D INFO] WebRTC GUI backend enabled.\n",
      "[Open3D INFO] WebRTCWindowSystem: HTTP handshake server disabled.\n"
     ]
    }
   ],
   "source": [
    "from pathlib import Path\n",
    "\n",
    "import matplotlib.pyplot as plt\n",
    "import numpy as np\n",
    "\n",
    "from vgn.io import *\n",
    "from vgn.perception import *\n",
    "from vgn.utils.transform import Rotation, Transform"
   ]
  },
  {
   "cell_type": "code",
   "execution_count": 4,
   "metadata": {},
   "outputs": [
    {
     "name": "stderr",
     "output_type": "stream",
     "text": [
      "[ERROR] [1684063775.696894]: Unable to immediately register with master node [http://localhost:11311]: master may not be running yet. Will keep trying.\n"
     ]
    }
   ],
   "source": [
    "import rospy\n",
    "from vgn import vis\n",
    "\n",
    "rospy.init_node(\"vgn_vis\", anonymous=True)"
   ]
  },
  {
   "attachments": {},
   "cell_type": "markdown",
   "metadata": {},
   "source": [
    "Path to the data folder."
   ]
  },
  {
   "cell_type": "code",
   "execution_count": 47,
   "metadata": {},
   "outputs": [],
   "source": [
    "root = Path(\"vgn/data/raw/foo\")"
   ]
  },
  {
   "attachments": {},
   "cell_type": "markdown",
   "metadata": {},
   "source": [
    "## Inspection"
   ]
  },
  {
   "attachments": {},
   "cell_type": "markdown",
   "metadata": {},
   "source": [
    "Compute the number of positive and negative samples in the dataset."
   ]
  },
  {
   "cell_type": "code",
   "execution_count": 48,
   "metadata": {},
   "outputs": [],
   "source": [
    "df = read_df(root)"
   ]
  },
  {
   "cell_type": "code",
   "execution_count": 64,
   "metadata": {},
   "outputs": [
    {
     "name": "stdout",
     "output_type": "stream",
     "text": [
      "Number of samples: 402\n",
      "Number of positives: 201\n",
      "Number of negatives: 201\n"
     ]
    }
   ],
   "source": [
    "positives = df[df[\"label\"] == 1]\n",
    "negatives = df[df[\"label\"] == 0]\n",
    "\n",
    "print(\"Number of samples:\", len(df.index))\n",
    "print(\"Number of positives:\", len(positives.index))\n",
    "print(\"Number of negatives:\", len(negatives.index))"
   ]
  },
  {
   "attachments": {},
   "cell_type": "markdown",
   "metadata": {},
   "source": [
    "Visualize a random sample. Make sure to have a ROS core running and open `config/sim.rviz` in RViz."
   ]
  },
  {
   "cell_type": "code",
   "execution_count": 68,
   "metadata": {},
   "outputs": [
    {
     "name": "stdout",
     "output_type": "stream",
     "text": [
      "/home/son22/robot_ws/src\n",
      "0.30000000000000004\n"
     ]
    }
   ],
   "source": [
    "print(os.getcwd())\n",
    "size, intrinsic, _, finger_depth = read_setup(root)\n",
    "print(size)\n"
   ]
  },
  {
   "cell_type": "code",
   "execution_count": 69,
   "metadata": {},
   "outputs": [
    {
     "ename": "IndexError",
     "evalue": "index 40 is out of bounds for axis 2 with size 40",
     "output_type": "error",
     "traceback": [
      "\u001b[0;31m---------------------------------------------------------------------------\u001b[0m",
      "\u001b[0;31mIndexError\u001b[0m                                Traceback (most recent call last)",
      "Cell \u001b[0;32mIn[69], line 6\u001b[0m\n\u001b[1;32m      3\u001b[0m depth_imgs, extrinsics \u001b[39m=\u001b[39m read_sensor_data(root, scene_id)\n\u001b[1;32m      5\u001b[0m tsdf \u001b[39m=\u001b[39m create_tsdf(size, \u001b[39m120\u001b[39m, depth_imgs, intrinsic, extrinsics)\n\u001b[0;32m----> 6\u001b[0m tsdf_grid \u001b[39m=\u001b[39m tsdf\u001b[39m.\u001b[39;49mget_grid()\n\u001b[1;32m      7\u001b[0m cloud \u001b[39m=\u001b[39m tsdf\u001b[39m.\u001b[39mget_cloud()\n\u001b[1;32m      9\u001b[0m vis\u001b[39m.\u001b[39mclear()\n",
      "File \u001b[0;32m~/robot_ws/src/vgn/src/vgn/perception.py:114\u001b[0m, in \u001b[0;36mTSDFVolume.get_grid\u001b[0;34m(self)\u001b[0m\n\u001b[1;32m    112\u001b[0m \u001b[39mfor\u001b[39;00m idx, point \u001b[39min\u001b[39;00m \u001b[39menumerate\u001b[39m(points):\n\u001b[1;32m    113\u001b[0m     i, j, k \u001b[39m=\u001b[39m np\u001b[39m.\u001b[39mfloor(point \u001b[39m/\u001b[39m \u001b[39mself\u001b[39m\u001b[39m.\u001b[39mvoxel_size)\u001b[39m.\u001b[39mastype(\u001b[39mint\u001b[39m)\n\u001b[0;32m--> 114\u001b[0m     grid[\u001b[39m0\u001b[39;49m, i, j, k] \u001b[39m=\u001b[39m distances[idx]\n\u001b[1;32m    115\u001b[0m \u001b[39mreturn\u001b[39;00m grid\n",
      "\u001b[0;31mIndexError\u001b[0m: index 40 is out of bounds for axis 2 with size 40"
     ]
    }
   ],
   "source": [
    "i = np.random.randint(len(df.index))\n",
    "scene_id, grasp, label = read_grasp(df, i)\n",
    "depth_imgs, extrinsics = read_sensor_data(root, scene_id)\n",
    "\n",
    "tsdf = create_tsdf(size, 120, depth_imgs, intrinsic, extrinsics)\n",
    "tsdf_grid = tsdf.get_grid()\n",
    "cloud = tsdf.get_cloud()\n",
    "\n",
    "vis.clear()\n",
    "vis.draw_workspace(size)\n",
    "vis.draw_points(np.asarray(cloud.points))\n",
    "vis.draw_grasp(grasp, label, finger_depth)"
   ]
  },
  {
   "attachments": {},
   "cell_type": "markdown",
   "metadata": {},
   "source": [
    "Plot the distribution of angles between the gravity vector and $Z$ axis of grasps."
   ]
  },
  {
   "cell_type": "code",
   "execution_count": null,
   "metadata": {},
   "outputs": [],
   "source": [
    "angles = np.empty(len(positives.index))\n",
    "for i, index in enumerate(positives.index):\n",
    "    approach = Rotation.from_quat(df.loc[index, \"qx\":\"qw\"].to_numpy()).as_matrix()[:,2]\n",
    "    angle = np.arccos(np.dot(approach, np.r_[0.0, 0.0, -1.0]))\n",
    "    angles[i] = np.rad2deg(angle)        "
   ]
  },
  {
   "cell_type": "code",
   "execution_count": null,
   "metadata": {},
   "outputs": [],
   "source": [
    "plt.hist(angles, bins=30)\n",
    "plt.xlabel(\"Angle [deg]\")\n",
    "plt.ylabel(\"Count\")\n",
    "plt.show()"
   ]
  },
  {
   "attachments": {},
   "cell_type": "markdown",
   "metadata": {},
   "source": [
    "## Cleanup\n",
    "\n",
    "DANGER: the following lines will modify/delete data."
   ]
  },
  {
   "attachments": {},
   "cell_type": "markdown",
   "metadata": {},
   "source": [
    "Remove grasp positions that lie outside the workspace."
   ]
  },
  {
   "cell_type": "code",
   "execution_count": 59,
   "metadata": {},
   "outputs": [],
   "source": [
    "df = read_df(root)\n",
    "df.drop(df[df[\"x\"] < 0.02].index, inplace=True)\n",
    "df.drop(df[df[\"y\"] < 0.02].index, inplace=True)\n",
    "df.drop(df[df[\"z\"] < 0.02].index, inplace=True)\n",
    "df.drop(df[df[\"x\"] > 0.28].index, inplace=True)\n",
    "df.drop(df[df[\"y\"] > 0.28].index, inplace=True)\n",
    "df.drop(df[df[\"z\"] > 0.28].index, inplace=True)\n",
    "write_df(df, root)"
   ]
  },
  {
   "attachments": {},
   "cell_type": "markdown",
   "metadata": {},
   "source": [
    "Remove unreferenced scenes."
   ]
  },
  {
   "cell_type": "code",
   "execution_count": 66,
   "metadata": {},
   "outputs": [],
   "source": [
    "df = read_df(root)\n",
    "scenes = df[\"scene_id\"].values\n",
    "for f in (root / \"scenes\").iterdir():\n",
    "    if f.suffix == \".npz\" and f.stem not in scenes:\n",
    "        print(\"Removed\", f)\n",
    "        f.unlink()"
   ]
  },
  {
   "attachments": {},
   "cell_type": "markdown",
   "metadata": {},
   "source": [
    "## Balance\n",
    "\n",
    "Discard a subset of negative samples to balance classes."
   ]
  },
  {
   "cell_type": "code",
   "execution_count": 61,
   "metadata": {},
   "outputs": [],
   "source": [
    "df = read_df(root)"
   ]
  },
  {
   "cell_type": "code",
   "execution_count": 62,
   "metadata": {},
   "outputs": [],
   "source": [
    "positives = df[df[\"label\"] == 1]\n",
    "negatives = df[df[\"label\"] == 0]\n",
    "i = np.random.choice(negatives.index, len(negatives.index) - len(positives.index), replace=False)\n",
    "df = df.drop(i)"
   ]
  },
  {
   "cell_type": "code",
   "execution_count": 63,
   "metadata": {},
   "outputs": [],
   "source": [
    "write_df(df, root)"
   ]
  },
  {
   "cell_type": "code",
   "execution_count": null,
   "metadata": {},
   "outputs": [],
   "source": []
  }
 ],
 "metadata": {
  "kernelspec": {
   "display_name": "VGN",
   "language": "python",
   "name": "python3"
  },
  "language_info": {
   "codemirror_mode": {
    "name": "ipython",
    "version": 3
   },
   "file_extension": ".py",
   "mimetype": "text/x-python",
   "name": "python",
   "nbconvert_exporter": "python",
   "pygments_lexer": "ipython3",
   "version": "3.8.0"
  }
 },
 "nbformat": 4,
 "nbformat_minor": 4
}
