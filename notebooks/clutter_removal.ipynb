{
 "cells": [
  {
   "attachments": {},
   "cell_type": "markdown",
   "metadata": {},
   "source": [
    "# Clutter Removal Experiment\n",
    "\n",
    "Use this notebook to analyze the results of a clutter removal experiment."
   ]
  },
  {
   "cell_type": "code",
   "execution_count": 2,
   "metadata": {},
   "outputs": [],
   "source": [
    "import os\n",
    "os.chdir('..')"
   ]
  },
  {
   "cell_type": "code",
   "execution_count": 3,
   "metadata": {},
   "outputs": [
    {
     "name": "stdout",
     "output_type": "stream",
     "text": [
      "Jupyter environment detected. Enabling Open3D WebVisualizer.\n",
      "[Open3D INFO] WebRTC GUI backend enabled.\n",
      "[Open3D INFO] WebRTCWindowSystem: HTTP handshake server disabled.\n",
      "pybullet build time: May 28 2020 16:37:34\n"
     ]
    }
   ],
   "source": [
    "from pathlib import Path\n",
    "\n",
    "from vgn.experiments import clutter_removal"
   ]
  },
  {
   "attachments": {},
   "cell_type": "markdown",
   "metadata": {},
   "source": [
    "Path to the log directory of the experiment."
   ]
  },
  {
   "cell_type": "code",
   "execution_count": 15,
   "metadata": {},
   "outputs": [
    {
     "name": "stdout",
     "output_type": "stream",
     "text": [
      "/home/son22/robot_ws/src/vgn\n"
     ]
    }
   ],
   "source": [
    "print(os.getcwd())\n",
    "logdir = Path(\"data/experiments/23-05-15-08-23-41\")"
   ]
  },
  {
   "cell_type": "code",
   "execution_count": 16,
   "metadata": {},
   "outputs": [],
   "source": [
    "data = clutter_removal.Data(logdir)"
   ]
  },
  {
   "attachments": {},
   "cell_type": "markdown",
   "metadata": {},
   "source": [
    "First, we compute the following metrics for the experiment:\n",
    "\n",
    "* **Success rate**: the ratio of successful grasp executions,\n",
    "* **Percent cleared**: the percentage of objects removed during each round,\n",
    "* **Planning time**: the time between receiving a voxel grid/point cloud and returning a list of grasp candidates."
   ]
  },
  {
   "cell_type": "code",
   "execution_count": 17,
   "metadata": {},
   "outputs": [
    {
     "name": "stdout",
     "output_type": "stream",
     "text": [
      "Num grasps:         377\n",
      "Success rate:       59.41644562334217\n",
      "Percent cleared:    47.257383966244724\n",
      "Avg planning time:  0.0739498138427734\n"
     ]
    }
   ],
   "source": [
    "print(\"Num grasps:        \", data.num_grasps())\n",
    "print(\"Success rate:      \", data.success_rate())\n",
    "print(\"Percent cleared:   \", data.percent_cleared())\n",
    "print(\"Avg planning time: \", data.avg_planning_time())"
   ]
  },
  {
   "attachments": {},
   "cell_type": "markdown",
   "metadata": {},
   "source": [
    "Next, we visualize the failure cases. Make sure to have a ROS core running and open `config/sim.rviz` in RViz."
   ]
  },
  {
   "cell_type": "code",
   "execution_count": 10,
   "metadata": {},
   "outputs": [],
   "source": [
    "import rospy\n",
    "from vgn import vis\n",
    "\n",
    "rospy.init_node(\"vgn_vis\", anonymous=True)"
   ]
  },
  {
   "cell_type": "code",
   "execution_count": 11,
   "metadata": {},
   "outputs": [],
   "source": [
    "failures = data.grasps[data.grasps[\"label\"] == 0].index.tolist()\n",
    "iterator = iter(failures)"
   ]
  },
  {
   "cell_type": "code",
   "execution_count": 14,
   "metadata": {},
   "outputs": [],
   "source": [
    "i = next(iterator)\n",
    "points, grasp, score, label = data.read_grasp(i)\n",
    "\n",
    "vis.clear()\n",
    "vis.draw_workspace(0.3)\n",
    "vis.draw_points(points)\n",
    "vis.draw_grasp(grasp, label, 0.05)"
   ]
  },
  {
   "cell_type": "code",
   "execution_count": null,
   "metadata": {},
   "outputs": [],
   "source": []
  }
 ],
 "metadata": {
  "kernelspec": {
   "display_name": "VGN",
   "language": "python",
   "name": "python3"
  },
  "language_info": {
   "codemirror_mode": {
    "name": "ipython",
    "version": 3
   },
   "file_extension": ".py",
   "mimetype": "text/x-python",
   "name": "python",
   "nbconvert_exporter": "python",
   "pygments_lexer": "ipython3",
   "version": "3.8.0"
  }
 },
 "nbformat": 4,
 "nbformat_minor": 4
}
